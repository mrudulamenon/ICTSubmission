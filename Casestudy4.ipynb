{
  "cells": [
    {
      "cell_type": "markdown",
      "metadata": {
        "id": "C2dtCUJ-54TI"
      },
      "source": [
        "# CaseStudy 4 - Neural Network and Hyper Parameter Tuning"
      ]
    },
    {
      "cell_type": "markdown",
      "metadata": {
        "id": "uc_CCICD51w5"
      },
      "source": [
        "You are provided with a csv file (magic_gamma_telescope04.csv) dataset which\n",
        "contains telescopic experiment data.\n",
        "Using the features given in the dataset, you need to\n",
        "classify the outcome - CLASS.\n",
        "1. Prepare a model to classify \"**class**\" using neural networks combined with any HP parameter tuning.\n",
        "2. Expected: f1 score = 70% and accuracy = 75%.\n",
        "\n",
        "You can make use of any preprocessing activities if needed.\n",
        "No external data shall be added for increasing evaluation metric values"
      ]
    },
    {
      "cell_type": "code",
      "execution_count": 2,
      "metadata": {
        "colab": {
          "base_uri": "https://localhost:8080/"
        },
        "id": "NrQt0A6Pujq8",
        "outputId": "eb556d83-f4c6-4eb4-d4d7-282a58e7947f"
      },
      "outputs": [
        {
          "name": "stdout",
          "output_type": "stream",
          "text": [
            "Looking in indexes: https://pypi.org/simple, https://us-python.pkg.dev/colab-wheels/public/simple/\n",
            "Collecting scikeras\n",
            "  Downloading scikeras-0.9.0-py3-none-any.whl (27 kB)\n",
            "Requirement already satisfied: scikit-learn>=1.0.0 in /usr/local/lib/python3.7/dist-packages (from scikeras) (1.0.2)\n",
            "Requirement already satisfied: importlib-metadata>=3 in /usr/local/lib/python3.7/dist-packages (from scikeras) (4.12.0)\n",
            "Requirement already satisfied: packaging>=0.21 in /usr/local/lib/python3.7/dist-packages (from scikeras) (21.3)\n",
            "Requirement already satisfied: typing-extensions>=3.6.4 in /usr/local/lib/python3.7/dist-packages (from importlib-metadata>=3->scikeras) (4.1.1)\n",
            "Requirement already satisfied: zipp>=0.5 in /usr/local/lib/python3.7/dist-packages (from importlib-metadata>=3->scikeras) (3.8.1)\n",
            "Requirement already satisfied: pyparsing!=3.0.5,>=2.0.2 in /usr/local/lib/python3.7/dist-packages (from packaging>=0.21->scikeras) (3.0.9)\n",
            "Requirement already satisfied: joblib>=0.11 in /usr/local/lib/python3.7/dist-packages (from scikit-learn>=1.0.0->scikeras) (1.1.0)\n",
            "Requirement already satisfied: scipy>=1.1.0 in /usr/local/lib/python3.7/dist-packages (from scikit-learn>=1.0.0->scikeras) (1.7.3)\n",
            "Requirement already satisfied: threadpoolctl>=2.0.0 in /usr/local/lib/python3.7/dist-packages (from scikit-learn>=1.0.0->scikeras) (3.1.0)\n",
            "Requirement already satisfied: numpy>=1.14.6 in /usr/local/lib/python3.7/dist-packages (from scikit-learn>=1.0.0->scikeras) (1.21.6)\n",
            "Installing collected packages: scikeras\n",
            "Successfully installed scikeras-0.9.0\n"
          ]
        }
      ],
      "source": [
        "!pip install scikeras "
      ]
    },
    {
      "cell_type": "code",
      "execution_count": 3,
      "metadata": {
        "id": "YQsCYXyBng1o"
      },
      "outputs": [],
      "source": [
        "# Loading Directories\n",
        "import tensorflow as tf\n",
        "from tensorflow import keras\n",
        "import scikeras \n",
        "# Loading Supporting Directories\n",
        "import numpy as np\n",
        "import pandas as pd\n",
        "import matplotlib.pyplot as plt\n",
        "import seaborn as sns\n",
        "\n",
        "import warnings\n",
        "warnings.filterwarnings('ignore')"
      ]
    },
    {
      "cell_type": "code",
      "execution_count": 5,
      "metadata": {
        "colab": {
          "base_uri": "https://localhost:8080/",
          "height": 352
        },
        "id": "PtNF8Y2uoJla",
        "outputId": "6b8acc2c-8279-4a27-f130-01ca2367d63d"
      },
      "outputs": [
        {
          "data": {
            "text/html": [
              "\n",
              "  <div id=\"df-962de3c7-2e8d-43c8-bbf8-4c526702aa44\">\n",
              "    <div class=\"colab-df-container\">\n",
              "      <div>\n",
              "<style scoped>\n",
              "    .dataframe tbody tr th:only-of-type {\n",
              "        vertical-align: middle;\n",
              "    }\n",
              "\n",
              "    .dataframe tbody tr th {\n",
              "        vertical-align: top;\n",
              "    }\n",
              "\n",
              "    .dataframe thead th {\n",
              "        text-align: right;\n",
              "    }\n",
              "</style>\n",
              "<table border=\"1\" class=\"dataframe\">\n",
              "  <thead>\n",
              "    <tr style=\"text-align: right;\">\n",
              "      <th></th>\n",
              "      <th>flength</th>\n",
              "      <th>fwidth</th>\n",
              "      <th>fsize</th>\n",
              "      <th>fconc</th>\n",
              "      <th>fconc1</th>\n",
              "      <th>fsym</th>\n",
              "      <th>fm3long</th>\n",
              "      <th>fm3trans</th>\n",
              "      <th>falpha</th>\n",
              "      <th>dist</th>\n",
              "      <th>class</th>\n",
              "    </tr>\n",
              "  </thead>\n",
              "  <tbody>\n",
              "    <tr>\n",
              "      <th>0</th>\n",
              "      <td>28.7967</td>\n",
              "      <td>16.0021</td>\n",
              "      <td>2.6449</td>\n",
              "      <td>0.3918</td>\n",
              "      <td>0.1982</td>\n",
              "      <td>27.7004</td>\n",
              "      <td>22.0110</td>\n",
              "      <td>-8.2027</td>\n",
              "      <td>40.0920</td>\n",
              "      <td>81.8828</td>\n",
              "      <td>g</td>\n",
              "    </tr>\n",
              "    <tr>\n",
              "      <th>1</th>\n",
              "      <td>31.6036</td>\n",
              "      <td>11.7235</td>\n",
              "      <td>2.5185</td>\n",
              "      <td>0.5303</td>\n",
              "      <td>0.3773</td>\n",
              "      <td>26.2722</td>\n",
              "      <td>23.8238</td>\n",
              "      <td>-9.9574</td>\n",
              "      <td>6.3609</td>\n",
              "      <td>205.2610</td>\n",
              "      <td>g</td>\n",
              "    </tr>\n",
              "    <tr>\n",
              "      <th>2</th>\n",
              "      <td>162.0520</td>\n",
              "      <td>136.0310</td>\n",
              "      <td>4.0612</td>\n",
              "      <td>0.0374</td>\n",
              "      <td>0.0187</td>\n",
              "      <td>116.7410</td>\n",
              "      <td>-64.8580</td>\n",
              "      <td>-45.2160</td>\n",
              "      <td>76.9600</td>\n",
              "      <td>256.7880</td>\n",
              "      <td>g</td>\n",
              "    </tr>\n",
              "    <tr>\n",
              "      <th>3</th>\n",
              "      <td>23.8172</td>\n",
              "      <td>9.5728</td>\n",
              "      <td>2.3385</td>\n",
              "      <td>0.6147</td>\n",
              "      <td>0.3922</td>\n",
              "      <td>27.2107</td>\n",
              "      <td>-6.4633</td>\n",
              "      <td>-7.1513</td>\n",
              "      <td>10.4490</td>\n",
              "      <td>116.7370</td>\n",
              "      <td>g</td>\n",
              "    </tr>\n",
              "    <tr>\n",
              "      <th>4</th>\n",
              "      <td>75.1362</td>\n",
              "      <td>30.9205</td>\n",
              "      <td>3.1611</td>\n",
              "      <td>0.3168</td>\n",
              "      <td>0.1832</td>\n",
              "      <td>-5.5277</td>\n",
              "      <td>28.5525</td>\n",
              "      <td>21.8393</td>\n",
              "      <td>4.6480</td>\n",
              "      <td>356.4620</td>\n",
              "      <td>g</td>\n",
              "    </tr>\n",
              "    <tr>\n",
              "      <th>5</th>\n",
              "      <td>51.6240</td>\n",
              "      <td>21.1502</td>\n",
              "      <td>2.9085</td>\n",
              "      <td>0.2420</td>\n",
              "      <td>0.1340</td>\n",
              "      <td>50.8761</td>\n",
              "      <td>43.1887</td>\n",
              "      <td>9.8145</td>\n",
              "      <td>3.6130</td>\n",
              "      <td>238.0980</td>\n",
              "      <td>g</td>\n",
              "    </tr>\n",
              "    <tr>\n",
              "      <th>6</th>\n",
              "      <td>48.2468</td>\n",
              "      <td>17.3565</td>\n",
              "      <td>3.0332</td>\n",
              "      <td>0.2529</td>\n",
              "      <td>0.1515</td>\n",
              "      <td>8.5730</td>\n",
              "      <td>38.0957</td>\n",
              "      <td>10.5868</td>\n",
              "      <td>4.7920</td>\n",
              "      <td>219.0870</td>\n",
              "      <td>g</td>\n",
              "    </tr>\n",
              "    <tr>\n",
              "      <th>7</th>\n",
              "      <td>26.7897</td>\n",
              "      <td>13.7595</td>\n",
              "      <td>2.5521</td>\n",
              "      <td>0.4236</td>\n",
              "      <td>0.2174</td>\n",
              "      <td>29.6339</td>\n",
              "      <td>20.4560</td>\n",
              "      <td>-2.9292</td>\n",
              "      <td>0.8120</td>\n",
              "      <td>237.1340</td>\n",
              "      <td>g</td>\n",
              "    </tr>\n",
              "    <tr>\n",
              "      <th>8</th>\n",
              "      <td>96.2327</td>\n",
              "      <td>46.5165</td>\n",
              "      <td>4.1540</td>\n",
              "      <td>0.0779</td>\n",
              "      <td>0.0390</td>\n",
              "      <td>110.3550</td>\n",
              "      <td>85.0486</td>\n",
              "      <td>43.1844</td>\n",
              "      <td>4.8540</td>\n",
              "      <td>248.2260</td>\n",
              "      <td>g</td>\n",
              "    </tr>\n",
              "    <tr>\n",
              "      <th>9</th>\n",
              "      <td>46.7619</td>\n",
              "      <td>15.1993</td>\n",
              "      <td>2.5786</td>\n",
              "      <td>0.3377</td>\n",
              "      <td>0.1913</td>\n",
              "      <td>24.7548</td>\n",
              "      <td>43.8771</td>\n",
              "      <td>-6.6812</td>\n",
              "      <td>7.8750</td>\n",
              "      <td>102.2510</td>\n",
              "      <td>g</td>\n",
              "    </tr>\n",
              "  </tbody>\n",
              "</table>\n",
              "</div>\n",
              "      <button class=\"colab-df-convert\" onclick=\"convertToInteractive('df-962de3c7-2e8d-43c8-bbf8-4c526702aa44')\"\n",
              "              title=\"Convert this dataframe to an interactive table.\"\n",
              "              style=\"display:none;\">\n",
              "        \n",
              "  <svg xmlns=\"http://www.w3.org/2000/svg\" height=\"24px\"viewBox=\"0 0 24 24\"\n",
              "       width=\"24px\">\n",
              "    <path d=\"M0 0h24v24H0V0z\" fill=\"none\"/>\n",
              "    <path d=\"M18.56 5.44l.94 2.06.94-2.06 2.06-.94-2.06-.94-.94-2.06-.94 2.06-2.06.94zm-11 1L8.5 8.5l.94-2.06 2.06-.94-2.06-.94L8.5 2.5l-.94 2.06-2.06.94zm10 10l.94 2.06.94-2.06 2.06-.94-2.06-.94-.94-2.06-.94 2.06-2.06.94z\"/><path d=\"M17.41 7.96l-1.37-1.37c-.4-.4-.92-.59-1.43-.59-.52 0-1.04.2-1.43.59L10.3 9.45l-7.72 7.72c-.78.78-.78 2.05 0 2.83L4 21.41c.39.39.9.59 1.41.59.51 0 1.02-.2 1.41-.59l7.78-7.78 2.81-2.81c.8-.78.8-2.07 0-2.86zM5.41 20L4 18.59l7.72-7.72 1.47 1.35L5.41 20z\"/>\n",
              "  </svg>\n",
              "      </button>\n",
              "      \n",
              "  <style>\n",
              "    .colab-df-container {\n",
              "      display:flex;\n",
              "      flex-wrap:wrap;\n",
              "      gap: 12px;\n",
              "    }\n",
              "\n",
              "    .colab-df-convert {\n",
              "      background-color: #E8F0FE;\n",
              "      border: none;\n",
              "      border-radius: 50%;\n",
              "      cursor: pointer;\n",
              "      display: none;\n",
              "      fill: #1967D2;\n",
              "      height: 32px;\n",
              "      padding: 0 0 0 0;\n",
              "      width: 32px;\n",
              "    }\n",
              "\n",
              "    .colab-df-convert:hover {\n",
              "      background-color: #E2EBFA;\n",
              "      box-shadow: 0px 1px 2px rgba(60, 64, 67, 0.3), 0px 1px 3px 1px rgba(60, 64, 67, 0.15);\n",
              "      fill: #174EA6;\n",
              "    }\n",
              "\n",
              "    [theme=dark] .colab-df-convert {\n",
              "      background-color: #3B4455;\n",
              "      fill: #D2E3FC;\n",
              "    }\n",
              "\n",
              "    [theme=dark] .colab-df-convert:hover {\n",
              "      background-color: #434B5C;\n",
              "      box-shadow: 0px 1px 3px 1px rgba(0, 0, 0, 0.15);\n",
              "      filter: drop-shadow(0px 1px 2px rgba(0, 0, 0, 0.3));\n",
              "      fill: #FFFFFF;\n",
              "    }\n",
              "  </style>\n",
              "\n",
              "      <script>\n",
              "        const buttonEl =\n",
              "          document.querySelector('#df-962de3c7-2e8d-43c8-bbf8-4c526702aa44 button.colab-df-convert');\n",
              "        buttonEl.style.display =\n",
              "          google.colab.kernel.accessAllowed ? 'block' : 'none';\n",
              "\n",
              "        async function convertToInteractive(key) {\n",
              "          const element = document.querySelector('#df-962de3c7-2e8d-43c8-bbf8-4c526702aa44');\n",
              "          const dataTable =\n",
              "            await google.colab.kernel.invokeFunction('convertToInteractive',\n",
              "                                                     [key], {});\n",
              "          if (!dataTable) return;\n",
              "\n",
              "          const docLinkHtml = 'Like what you see? Visit the ' +\n",
              "            '<a target=\"_blank\" href=https://colab.research.google.com/notebooks/data_table.ipynb>data table notebook</a>'\n",
              "            + ' to learn more about interactive tables.';\n",
              "          element.innerHTML = '';\n",
              "          dataTable['output_type'] = 'display_data';\n",
              "          await google.colab.output.renderOutput(dataTable, element);\n",
              "          const docLink = document.createElement('div');\n",
              "          docLink.innerHTML = docLinkHtml;\n",
              "          element.appendChild(docLink);\n",
              "        }\n",
              "      </script>\n",
              "    </div>\n",
              "  </div>\n",
              "  "
            ],
            "text/plain": [
              "    flength    fwidth   fsize   fconc  fconc1      fsym  fm3long  fm3trans  \\\n",
              "0   28.7967   16.0021  2.6449  0.3918  0.1982   27.7004  22.0110   -8.2027   \n",
              "1   31.6036   11.7235  2.5185  0.5303  0.3773   26.2722  23.8238   -9.9574   \n",
              "2  162.0520  136.0310  4.0612  0.0374  0.0187  116.7410 -64.8580  -45.2160   \n",
              "3   23.8172    9.5728  2.3385  0.6147  0.3922   27.2107  -6.4633   -7.1513   \n",
              "4   75.1362   30.9205  3.1611  0.3168  0.1832   -5.5277  28.5525   21.8393   \n",
              "5   51.6240   21.1502  2.9085  0.2420  0.1340   50.8761  43.1887    9.8145   \n",
              "6   48.2468   17.3565  3.0332  0.2529  0.1515    8.5730  38.0957   10.5868   \n",
              "7   26.7897   13.7595  2.5521  0.4236  0.2174   29.6339  20.4560   -2.9292   \n",
              "8   96.2327   46.5165  4.1540  0.0779  0.0390  110.3550  85.0486   43.1844   \n",
              "9   46.7619   15.1993  2.5786  0.3377  0.1913   24.7548  43.8771   -6.6812   \n",
              "\n",
              "    falpha      dist class  \n",
              "0  40.0920   81.8828     g  \n",
              "1   6.3609  205.2610     g  \n",
              "2  76.9600  256.7880     g  \n",
              "3  10.4490  116.7370     g  \n",
              "4   4.6480  356.4620     g  \n",
              "5   3.6130  238.0980     g  \n",
              "6   4.7920  219.0870     g  \n",
              "7   0.8120  237.1340     g  \n",
              "8   4.8540  248.2260     g  \n",
              "9   7.8750  102.2510     g  "
            ]
          },
          "execution_count": 5,
          "metadata": {},
          "output_type": "execute_result"
        }
      ],
      "source": [
        "# Importing dataset\n",
        "df = pd.read_csv('/content/magic_gamma_telescope04_.csv')\n",
        "df.head(10)"
      ]
    },
    {
      "cell_type": "markdown",
      "metadata": {
        "id": "pggUpmyeob73"
      },
      "source": [
        "### PREPROCESSING"
      ]
    },
    {
      "cell_type": "code",
      "execution_count": 4,
      "metadata": {
        "colab": {
          "base_uri": "https://localhost:8080/",
          "height": 291
        },
        "id": "9TNPlKLPoWXu",
        "outputId": "23f0c855-95b9-4fd5-ef50-f63ed662e572"
      },
      "outputs": [
        {
          "data": {
            "text/html": [
              "\n",
              "  <div id=\"df-b90fac60-723e-4681-b263-a395e8049001\">\n",
              "    <div class=\"colab-df-container\">\n",
              "      <div>\n",
              "<style scoped>\n",
              "    .dataframe tbody tr th:only-of-type {\n",
              "        vertical-align: middle;\n",
              "    }\n",
              "\n",
              "    .dataframe tbody tr th {\n",
              "        vertical-align: top;\n",
              "    }\n",
              "\n",
              "    .dataframe thead th {\n",
              "        text-align: right;\n",
              "    }\n",
              "</style>\n",
              "<table border=\"1\" class=\"dataframe\">\n",
              "  <thead>\n",
              "    <tr style=\"text-align: right;\">\n",
              "      <th></th>\n",
              "      <th>flength</th>\n",
              "      <th>fwidth</th>\n",
              "      <th>fsize</th>\n",
              "      <th>fconc</th>\n",
              "      <th>fconc1</th>\n",
              "      <th>fsym</th>\n",
              "      <th>fm3long</th>\n",
              "      <th>fm3trans</th>\n",
              "      <th>falpha</th>\n",
              "      <th>dist</th>\n",
              "    </tr>\n",
              "  </thead>\n",
              "  <tbody>\n",
              "    <tr>\n",
              "      <th>count</th>\n",
              "      <td>19020.000000</td>\n",
              "      <td>19020.000000</td>\n",
              "      <td>19020.000000</td>\n",
              "      <td>19020.000000</td>\n",
              "      <td>19020.000000</td>\n",
              "      <td>19020.000000</td>\n",
              "      <td>19020.000000</td>\n",
              "      <td>19020.000000</td>\n",
              "      <td>19020.000000</td>\n",
              "      <td>19020.000000</td>\n",
              "    </tr>\n",
              "    <tr>\n",
              "      <th>mean</th>\n",
              "      <td>53.250154</td>\n",
              "      <td>22.180966</td>\n",
              "      <td>2.825017</td>\n",
              "      <td>0.380327</td>\n",
              "      <td>0.214657</td>\n",
              "      <td>-4.331745</td>\n",
              "      <td>10.545545</td>\n",
              "      <td>0.249726</td>\n",
              "      <td>27.645707</td>\n",
              "      <td>193.818026</td>\n",
              "    </tr>\n",
              "    <tr>\n",
              "      <th>std</th>\n",
              "      <td>42.364855</td>\n",
              "      <td>18.346056</td>\n",
              "      <td>0.472599</td>\n",
              "      <td>0.182813</td>\n",
              "      <td>0.110511</td>\n",
              "      <td>59.206062</td>\n",
              "      <td>51.000118</td>\n",
              "      <td>20.827439</td>\n",
              "      <td>26.103621</td>\n",
              "      <td>74.731787</td>\n",
              "    </tr>\n",
              "    <tr>\n",
              "      <th>min</th>\n",
              "      <td>4.283500</td>\n",
              "      <td>0.000000</td>\n",
              "      <td>1.941300</td>\n",
              "      <td>0.013100</td>\n",
              "      <td>0.000300</td>\n",
              "      <td>-457.916100</td>\n",
              "      <td>-331.780000</td>\n",
              "      <td>-205.894700</td>\n",
              "      <td>0.000000</td>\n",
              "      <td>1.282600</td>\n",
              "    </tr>\n",
              "    <tr>\n",
              "      <th>25%</th>\n",
              "      <td>24.336000</td>\n",
              "      <td>11.863800</td>\n",
              "      <td>2.477100</td>\n",
              "      <td>0.235800</td>\n",
              "      <td>0.128475</td>\n",
              "      <td>-20.586550</td>\n",
              "      <td>-12.842775</td>\n",
              "      <td>-10.849375</td>\n",
              "      <td>5.547925</td>\n",
              "      <td>142.492250</td>\n",
              "    </tr>\n",
              "    <tr>\n",
              "      <th>50%</th>\n",
              "      <td>37.147700</td>\n",
              "      <td>17.139900</td>\n",
              "      <td>2.739600</td>\n",
              "      <td>0.354150</td>\n",
              "      <td>0.196500</td>\n",
              "      <td>4.013050</td>\n",
              "      <td>15.314100</td>\n",
              "      <td>0.666200</td>\n",
              "      <td>17.679500</td>\n",
              "      <td>191.851450</td>\n",
              "    </tr>\n",
              "    <tr>\n",
              "      <th>75%</th>\n",
              "      <td>70.122175</td>\n",
              "      <td>24.739475</td>\n",
              "      <td>3.101600</td>\n",
              "      <td>0.503700</td>\n",
              "      <td>0.285225</td>\n",
              "      <td>24.063700</td>\n",
              "      <td>35.837800</td>\n",
              "      <td>10.946425</td>\n",
              "      <td>45.883550</td>\n",
              "      <td>240.563825</td>\n",
              "    </tr>\n",
              "    <tr>\n",
              "      <th>max</th>\n",
              "      <td>334.177000</td>\n",
              "      <td>256.382000</td>\n",
              "      <td>5.323300</td>\n",
              "      <td>0.893000</td>\n",
              "      <td>0.675200</td>\n",
              "      <td>575.240700</td>\n",
              "      <td>238.321000</td>\n",
              "      <td>179.851000</td>\n",
              "      <td>90.000000</td>\n",
              "      <td>495.561000</td>\n",
              "    </tr>\n",
              "  </tbody>\n",
              "</table>\n",
              "</div>\n",
              "      <button class=\"colab-df-convert\" onclick=\"convertToInteractive('df-b90fac60-723e-4681-b263-a395e8049001')\"\n",
              "              title=\"Convert this dataframe to an interactive table.\"\n",
              "              style=\"display:none;\">\n",
              "        \n",
              "  <svg xmlns=\"http://www.w3.org/2000/svg\" height=\"24px\"viewBox=\"0 0 24 24\"\n",
              "       width=\"24px\">\n",
              "    <path d=\"M0 0h24v24H0V0z\" fill=\"none\"/>\n",
              "    <path d=\"M18.56 5.44l.94 2.06.94-2.06 2.06-.94-2.06-.94-.94-2.06-.94 2.06-2.06.94zm-11 1L8.5 8.5l.94-2.06 2.06-.94-2.06-.94L8.5 2.5l-.94 2.06-2.06.94zm10 10l.94 2.06.94-2.06 2.06-.94-2.06-.94-.94-2.06-.94 2.06-2.06.94z\"/><path d=\"M17.41 7.96l-1.37-1.37c-.4-.4-.92-.59-1.43-.59-.52 0-1.04.2-1.43.59L10.3 9.45l-7.72 7.72c-.78.78-.78 2.05 0 2.83L4 21.41c.39.39.9.59 1.41.59.51 0 1.02-.2 1.41-.59l7.78-7.78 2.81-2.81c.8-.78.8-2.07 0-2.86zM5.41 20L4 18.59l7.72-7.72 1.47 1.35L5.41 20z\"/>\n",
              "  </svg>\n",
              "      </button>\n",
              "      \n",
              "  <style>\n",
              "    .colab-df-container {\n",
              "      display:flex;\n",
              "      flex-wrap:wrap;\n",
              "      gap: 12px;\n",
              "    }\n",
              "\n",
              "    .colab-df-convert {\n",
              "      background-color: #E8F0FE;\n",
              "      border: none;\n",
              "      border-radius: 50%;\n",
              "      cursor: pointer;\n",
              "      display: none;\n",
              "      fill: #1967D2;\n",
              "      height: 32px;\n",
              "      padding: 0 0 0 0;\n",
              "      width: 32px;\n",
              "    }\n",
              "\n",
              "    .colab-df-convert:hover {\n",
              "      background-color: #E2EBFA;\n",
              "      box-shadow: 0px 1px 2px rgba(60, 64, 67, 0.3), 0px 1px 3px 1px rgba(60, 64, 67, 0.15);\n",
              "      fill: #174EA6;\n",
              "    }\n",
              "\n",
              "    [theme=dark] .colab-df-convert {\n",
              "      background-color: #3B4455;\n",
              "      fill: #D2E3FC;\n",
              "    }\n",
              "\n",
              "    [theme=dark] .colab-df-convert:hover {\n",
              "      background-color: #434B5C;\n",
              "      box-shadow: 0px 1px 3px 1px rgba(0, 0, 0, 0.15);\n",
              "      filter: drop-shadow(0px 1px 2px rgba(0, 0, 0, 0.3));\n",
              "      fill: #FFFFFF;\n",
              "    }\n",
              "  </style>\n",
              "\n",
              "      <script>\n",
              "        const buttonEl =\n",
              "          document.querySelector('#df-b90fac60-723e-4681-b263-a395e8049001 button.colab-df-convert');\n",
              "        buttonEl.style.display =\n",
              "          google.colab.kernel.accessAllowed ? 'block' : 'none';\n",
              "\n",
              "        async function convertToInteractive(key) {\n",
              "          const element = document.querySelector('#df-b90fac60-723e-4681-b263-a395e8049001');\n",
              "          const dataTable =\n",
              "            await google.colab.kernel.invokeFunction('convertToInteractive',\n",
              "                                                     [key], {});\n",
              "          if (!dataTable) return;\n",
              "\n",
              "          const docLinkHtml = 'Like what you see? Visit the ' +\n",
              "            '<a target=\"_blank\" href=https://colab.research.google.com/notebooks/data_table.ipynb>data table notebook</a>'\n",
              "            + ' to learn more about interactive tables.';\n",
              "          element.innerHTML = '';\n",
              "          dataTable['output_type'] = 'display_data';\n",
              "          await google.colab.output.renderOutput(dataTable, element);\n",
              "          const docLink = document.createElement('div');\n",
              "          docLink.innerHTML = docLinkHtml;\n",
              "          element.appendChild(docLink);\n",
              "        }\n",
              "      </script>\n",
              "    </div>\n",
              "  </div>\n",
              "  "
            ],
            "text/plain": [
              "            flength        fwidth         fsize         fconc        fconc1  \\\n",
              "count  19020.000000  19020.000000  19020.000000  19020.000000  19020.000000   \n",
              "mean      53.250154     22.180966      2.825017      0.380327      0.214657   \n",
              "std       42.364855     18.346056      0.472599      0.182813      0.110511   \n",
              "min        4.283500      0.000000      1.941300      0.013100      0.000300   \n",
              "25%       24.336000     11.863800      2.477100      0.235800      0.128475   \n",
              "50%       37.147700     17.139900      2.739600      0.354150      0.196500   \n",
              "75%       70.122175     24.739475      3.101600      0.503700      0.285225   \n",
              "max      334.177000    256.382000      5.323300      0.893000      0.675200   \n",
              "\n",
              "               fsym       fm3long      fm3trans        falpha          dist  \n",
              "count  19020.000000  19020.000000  19020.000000  19020.000000  19020.000000  \n",
              "mean      -4.331745     10.545545      0.249726     27.645707    193.818026  \n",
              "std       59.206062     51.000118     20.827439     26.103621     74.731787  \n",
              "min     -457.916100   -331.780000   -205.894700      0.000000      1.282600  \n",
              "25%      -20.586550    -12.842775    -10.849375      5.547925    142.492250  \n",
              "50%        4.013050     15.314100      0.666200     17.679500    191.851450  \n",
              "75%       24.063700     35.837800     10.946425     45.883550    240.563825  \n",
              "max      575.240700    238.321000    179.851000     90.000000    495.561000  "
            ]
          },
          "execution_count": 4,
          "metadata": {},
          "output_type": "execute_result"
        }
      ],
      "source": [
        "df.describe()"
      ]
    },
    {
      "cell_type": "code",
      "execution_count": 5,
      "metadata": {
        "colab": {
          "base_uri": "https://localhost:8080/",
          "height": 170
        },
        "id": "O_oxl8Khoil6",
        "outputId": "3973b7b1-3f75-43f0-d323-31c1b35e694c"
      },
      "outputs": [
        {
          "data": {
            "text/html": [
              "\n",
              "  <div id=\"df-ec493b84-9b3d-4675-85c6-d62538f46404\">\n",
              "    <div class=\"colab-df-container\">\n",
              "      <div>\n",
              "<style scoped>\n",
              "    .dataframe tbody tr th:only-of-type {\n",
              "        vertical-align: middle;\n",
              "    }\n",
              "\n",
              "    .dataframe tbody tr th {\n",
              "        vertical-align: top;\n",
              "    }\n",
              "\n",
              "    .dataframe thead th {\n",
              "        text-align: right;\n",
              "    }\n",
              "</style>\n",
              "<table border=\"1\" class=\"dataframe\">\n",
              "  <thead>\n",
              "    <tr style=\"text-align: right;\">\n",
              "      <th></th>\n",
              "      <th>class</th>\n",
              "    </tr>\n",
              "  </thead>\n",
              "  <tbody>\n",
              "    <tr>\n",
              "      <th>count</th>\n",
              "      <td>19020</td>\n",
              "    </tr>\n",
              "    <tr>\n",
              "      <th>unique</th>\n",
              "      <td>2</td>\n",
              "    </tr>\n",
              "    <tr>\n",
              "      <th>top</th>\n",
              "      <td>g</td>\n",
              "    </tr>\n",
              "    <tr>\n",
              "      <th>freq</th>\n",
              "      <td>12332</td>\n",
              "    </tr>\n",
              "  </tbody>\n",
              "</table>\n",
              "</div>\n",
              "      <button class=\"colab-df-convert\" onclick=\"convertToInteractive('df-ec493b84-9b3d-4675-85c6-d62538f46404')\"\n",
              "              title=\"Convert this dataframe to an interactive table.\"\n",
              "              style=\"display:none;\">\n",
              "        \n",
              "  <svg xmlns=\"http://www.w3.org/2000/svg\" height=\"24px\"viewBox=\"0 0 24 24\"\n",
              "       width=\"24px\">\n",
              "    <path d=\"M0 0h24v24H0V0z\" fill=\"none\"/>\n",
              "    <path d=\"M18.56 5.44l.94 2.06.94-2.06 2.06-.94-2.06-.94-.94-2.06-.94 2.06-2.06.94zm-11 1L8.5 8.5l.94-2.06 2.06-.94-2.06-.94L8.5 2.5l-.94 2.06-2.06.94zm10 10l.94 2.06.94-2.06 2.06-.94-2.06-.94-.94-2.06-.94 2.06-2.06.94z\"/><path d=\"M17.41 7.96l-1.37-1.37c-.4-.4-.92-.59-1.43-.59-.52 0-1.04.2-1.43.59L10.3 9.45l-7.72 7.72c-.78.78-.78 2.05 0 2.83L4 21.41c.39.39.9.59 1.41.59.51 0 1.02-.2 1.41-.59l7.78-7.78 2.81-2.81c.8-.78.8-2.07 0-2.86zM5.41 20L4 18.59l7.72-7.72 1.47 1.35L5.41 20z\"/>\n",
              "  </svg>\n",
              "      </button>\n",
              "      \n",
              "  <style>\n",
              "    .colab-df-container {\n",
              "      display:flex;\n",
              "      flex-wrap:wrap;\n",
              "      gap: 12px;\n",
              "    }\n",
              "\n",
              "    .colab-df-convert {\n",
              "      background-color: #E8F0FE;\n",
              "      border: none;\n",
              "      border-radius: 50%;\n",
              "      cursor: pointer;\n",
              "      display: none;\n",
              "      fill: #1967D2;\n",
              "      height: 32px;\n",
              "      padding: 0 0 0 0;\n",
              "      width: 32px;\n",
              "    }\n",
              "\n",
              "    .colab-df-convert:hover {\n",
              "      background-color: #E2EBFA;\n",
              "      box-shadow: 0px 1px 2px rgba(60, 64, 67, 0.3), 0px 1px 3px 1px rgba(60, 64, 67, 0.15);\n",
              "      fill: #174EA6;\n",
              "    }\n",
              "\n",
              "    [theme=dark] .colab-df-convert {\n",
              "      background-color: #3B4455;\n",
              "      fill: #D2E3FC;\n",
              "    }\n",
              "\n",
              "    [theme=dark] .colab-df-convert:hover {\n",
              "      background-color: #434B5C;\n",
              "      box-shadow: 0px 1px 3px 1px rgba(0, 0, 0, 0.15);\n",
              "      filter: drop-shadow(0px 1px 2px rgba(0, 0, 0, 0.3));\n",
              "      fill: #FFFFFF;\n",
              "    }\n",
              "  </style>\n",
              "\n",
              "      <script>\n",
              "        const buttonEl =\n",
              "          document.querySelector('#df-ec493b84-9b3d-4675-85c6-d62538f46404 button.colab-df-convert');\n",
              "        buttonEl.style.display =\n",
              "          google.colab.kernel.accessAllowed ? 'block' : 'none';\n",
              "\n",
              "        async function convertToInteractive(key) {\n",
              "          const element = document.querySelector('#df-ec493b84-9b3d-4675-85c6-d62538f46404');\n",
              "          const dataTable =\n",
              "            await google.colab.kernel.invokeFunction('convertToInteractive',\n",
              "                                                     [key], {});\n",
              "          if (!dataTable) return;\n",
              "\n",
              "          const docLinkHtml = 'Like what you see? Visit the ' +\n",
              "            '<a target=\"_blank\" href=https://colab.research.google.com/notebooks/data_table.ipynb>data table notebook</a>'\n",
              "            + ' to learn more about interactive tables.';\n",
              "          element.innerHTML = '';\n",
              "          dataTable['output_type'] = 'display_data';\n",
              "          await google.colab.output.renderOutput(dataTable, element);\n",
              "          const docLink = document.createElement('div');\n",
              "          docLink.innerHTML = docLinkHtml;\n",
              "          element.appendChild(docLink);\n",
              "        }\n",
              "      </script>\n",
              "    </div>\n",
              "  </div>\n",
              "  "
            ],
            "text/plain": [
              "        class\n",
              "count   19020\n",
              "unique      2\n",
              "top         g\n",
              "freq    12332"
            ]
          },
          "execution_count": 5,
          "metadata": {},
          "output_type": "execute_result"
        }
      ],
      "source": [
        "df.describe(include='object')"
      ]
    },
    {
      "cell_type": "code",
      "execution_count": 6,
      "metadata": {
        "colab": {
          "base_uri": "https://localhost:8080/"
        },
        "id": "sPmYw55YonVM",
        "outputId": "3730497e-85cb-4653-a011-570b30526221"
      },
      "outputs": [
        {
          "name": "stdout",
          "output_type": "stream",
          "text": [
            "<class 'pandas.core.frame.DataFrame'>\n",
            "RangeIndex: 19020 entries, 0 to 19019\n",
            "Data columns (total 11 columns):\n",
            " #   Column    Non-Null Count  Dtype  \n",
            "---  ------    --------------  -----  \n",
            " 0   flength   19020 non-null  float64\n",
            " 1   fwidth    19020 non-null  float64\n",
            " 2   fsize     19020 non-null  float64\n",
            " 3   fconc     19020 non-null  float64\n",
            " 4   fconc1    19020 non-null  float64\n",
            " 5   fsym      19020 non-null  float64\n",
            " 6   fm3long   19020 non-null  float64\n",
            " 7   fm3trans  19020 non-null  float64\n",
            " 8   falpha    19020 non-null  float64\n",
            " 9   dist      19020 non-null  float64\n",
            " 10  class     19020 non-null  object \n",
            "dtypes: float64(10), object(1)\n",
            "memory usage: 1.6+ MB\n"
          ]
        }
      ],
      "source": [
        "df.info()"
      ]
    },
    {
      "cell_type": "code",
      "execution_count": 7,
      "metadata": {
        "colab": {
          "base_uri": "https://localhost:8080/"
        },
        "id": "Bs3i4M44oqUt",
        "outputId": "2849d849-0e5e-47ad-9043-74ba2f80bf0d"
      },
      "outputs": [
        {
          "data": {
            "text/plain": [
              "flength     0\n",
              "fwidth      0\n",
              "fsize       0\n",
              "fconc       0\n",
              "fconc1      0\n",
              "fsym        0\n",
              "fm3long     0\n",
              "fm3trans    0\n",
              "falpha      0\n",
              "dist        0\n",
              "class       0\n",
              "dtype: int64"
            ]
          },
          "execution_count": 7,
          "metadata": {},
          "output_type": "execute_result"
        }
      ],
      "source": [
        "# missing values check\n",
        "df.isna().sum()"
      ]
    },
    {
      "cell_type": "code",
      "execution_count": 6,
      "metadata": {
        "id": "1kVxSAMvovQ4"
      },
      "outputs": [],
      "source": [
        "# defining data to input and output\n",
        "X = df.drop('class', axis=1)\n",
        "y = df['class']"
      ]
    },
    {
      "cell_type": "code",
      "execution_count": 7,
      "metadata": {
        "id": "0uFoxBJipAxO"
      },
      "outputs": [],
      "source": [
        "# Scaling the input using MIN MAX\n",
        "from sklearn.preprocessing import MinMaxScaler\n",
        "a = MinMaxScaler()\n",
        "a.fit(X)\n",
        "X_standardized = a.transform(X)\n",
        "X = pd.DataFrame(X_standardized)"
      ]
    },
    {
      "cell_type": "code",
      "execution_count": 8,
      "metadata": {
        "id": "JpjEAa8eRvBe"
      },
      "outputs": [],
      "source": [
        "# Encoding the output\n",
        "from sklearn.preprocessing import LabelEncoder\n",
        "# creating instance\n",
        "le = LabelEncoder()\n",
        "# fitting\n",
        "y_ = le.fit_transform(y)\n",
        "\n",
        "ye = pd.DataFrame(y_)"
      ]
    },
    {
      "cell_type": "code",
      "execution_count": 9,
      "metadata": {
        "colab": {
          "base_uri": "https://localhost:8080/"
        },
        "id": "2m1BMpXfruv6",
        "outputId": "e5a085d6-72ce-408a-b1a1-fbcba272bd11"
      },
      "outputs": [
        {
          "data": {
            "text/plain": [
              "((13314, 10), (5706, 10), (13314, 1), (5706, 1))"
            ]
          },
          "execution_count": 9,
          "metadata": {},
          "output_type": "execute_result"
        }
      ],
      "source": [
        "# importing train test split\n",
        "from sklearn.model_selection import train_test_split\n",
        "# Splitting data into train and test data\n",
        "X_train, X_test, y_train, y_test = train_test_split(X,ye, test_size=0.3, random_state=42)\n",
        "X_train.shape, X_test.shape, y_train.shape, y_test.shape"
      ]
    },
    {
      "cell_type": "markdown",
      "metadata": {
        "id": "-POlqV7nr1CO"
      },
      "source": [
        "### MODEL BUILDING"
      ]
    },
    {
      "cell_type": "code",
      "execution_count": 10,
      "metadata": {
        "id": "QKDrvOWtTMLu"
      },
      "outputs": [],
      "source": [
        "# Importing accuracy and f1 score\n",
        "from sklearn.metrics import accuracy_score, f1_score"
      ]
    },
    {
      "cell_type": "markdown",
      "metadata": {
        "id": "bBQEqz4U7HDt"
      },
      "source": [
        "Building an initial ANN model randomly to assess performance. Using 2 hidden layers."
      ]
    },
    {
      "cell_type": "code",
      "execution_count": 11,
      "metadata": {
        "id": "ww5vxCp5vn9h"
      },
      "outputs": [],
      "source": [
        "# importing for compiler and optimizer\n",
        "from keras.losses import BinaryCrossentropy\n",
        "# Creating the model\n",
        "model = keras.Sequential()\n",
        "\n",
        "model.add(keras.layers.Dense(10, ))\n",
        "model.add(keras.layers.Dense(128, activation='relu'))\n",
        "#Output layer\n",
        "model.add(keras.layers.Dense(1,activation='sigmoid'))\n",
        "\n",
        "# Compiling Model\n",
        "model.compile(optimizer = tf.keras.optimizers.SGD(lr = 0.001, momentum=0.2),\n",
        "                loss = BinaryCrossentropy(from_logits=True),\n",
        "                metrics = ['accuracy'])"
      ]
    },
    {
      "cell_type": "code",
      "execution_count": 12,
      "metadata": {
        "id": "3iIldNffu5cL"
      },
      "outputs": [],
      "source": [
        "early_stop = tf.keras.callbacks.EarlyStopping(monitor='val_loss', mode='min', patience=5)"
      ]
    },
    {
      "cell_type": "code",
      "execution_count": 13,
      "metadata": {
        "colab": {
          "base_uri": "https://localhost:8080/"
        },
        "id": "0Hwlfcw7x_qE",
        "outputId": "69823e08-d45d-4906-f71d-d4e2640e1ac7"
      },
      "outputs": [
        {
          "name": "stdout",
          "output_type": "stream",
          "text": [
            "Epoch 1/100\n",
            "1110/1110 [==============================] - 7s 5ms/step - loss: 0.6557 - accuracy: 0.6377 - val_loss: 0.6304 - val_accuracy: 0.6493\n",
            "Epoch 2/100\n",
            "1110/1110 [==============================] - 3s 3ms/step - loss: 0.6204 - accuracy: 0.6480 - val_loss: 0.6098 - val_accuracy: 0.6493\n",
            "Epoch 3/100\n",
            "1110/1110 [==============================] - 2s 2ms/step - loss: 0.6033 - accuracy: 0.6491 - val_loss: 0.5936 - val_accuracy: 0.6555\n",
            "Epoch 4/100\n",
            "1110/1110 [==============================] - 2s 2ms/step - loss: 0.5877 - accuracy: 0.6654 - val_loss: 0.5776 - val_accuracy: 0.6849\n",
            "Epoch 5/100\n",
            "1110/1110 [==============================] - 2s 2ms/step - loss: 0.5719 - accuracy: 0.6979 - val_loss: 0.5614 - val_accuracy: 0.7175\n",
            "Epoch 6/100\n",
            "1110/1110 [==============================] - 2s 2ms/step - loss: 0.5562 - accuracy: 0.7219 - val_loss: 0.5455 - val_accuracy: 0.7385\n",
            "Epoch 7/100\n",
            "1110/1110 [==============================] - 2s 2ms/step - loss: 0.5413 - accuracy: 0.7342 - val_loss: 0.5305 - val_accuracy: 0.7482\n",
            "Epoch 8/100\n",
            "1110/1110 [==============================] - 2s 2ms/step - loss: 0.5278 - accuracy: 0.7438 - val_loss: 0.5172 - val_accuracy: 0.7536\n",
            "Epoch 9/100\n",
            "1110/1110 [==============================] - 2s 2ms/step - loss: 0.5163 - accuracy: 0.7520 - val_loss: 0.5061 - val_accuracy: 0.7615\n",
            "Epoch 10/100\n",
            "1110/1110 [==============================] - 2s 2ms/step - loss: 0.5070 - accuracy: 0.7569 - val_loss: 0.4973 - val_accuracy: 0.7659\n",
            "Epoch 11/100\n",
            "1110/1110 [==============================] - 2s 2ms/step - loss: 0.4996 - accuracy: 0.7627 - val_loss: 0.4903 - val_accuracy: 0.7678\n",
            "Epoch 12/100\n",
            "1110/1110 [==============================] - 2s 2ms/step - loss: 0.4939 - accuracy: 0.7671 - val_loss: 0.4848 - val_accuracy: 0.7757\n",
            "Epoch 13/100\n",
            "1110/1110 [==============================] - 2s 2ms/step - loss: 0.4892 - accuracy: 0.7723 - val_loss: 0.4801 - val_accuracy: 0.7776\n",
            "Epoch 14/100\n",
            "1110/1110 [==============================] - 2s 2ms/step - loss: 0.4855 - accuracy: 0.7760 - val_loss: 0.4763 - val_accuracy: 0.7816\n",
            "Epoch 15/100\n",
            "1110/1110 [==============================] - 2s 2ms/step - loss: 0.4820 - accuracy: 0.7790 - val_loss: 0.4735 - val_accuracy: 0.7787\n",
            "Epoch 16/100\n",
            "1110/1110 [==============================] - 2s 2ms/step - loss: 0.4796 - accuracy: 0.7801 - val_loss: 0.4705 - val_accuracy: 0.7825\n",
            "Epoch 17/100\n",
            "1110/1110 [==============================] - 2s 2ms/step - loss: 0.4772 - accuracy: 0.7812 - val_loss: 0.4679 - val_accuracy: 0.7858\n",
            "Epoch 18/100\n",
            "1110/1110 [==============================] - 2s 2ms/step - loss: 0.4749 - accuracy: 0.7840 - val_loss: 0.4659 - val_accuracy: 0.7851\n",
            "Epoch 19/100\n",
            "1110/1110 [==============================] - 2s 2ms/step - loss: 0.4730 - accuracy: 0.7841 - val_loss: 0.4638 - val_accuracy: 0.7872\n",
            "Epoch 20/100\n",
            "1110/1110 [==============================] - 2s 2ms/step - loss: 0.4710 - accuracy: 0.7850 - val_loss: 0.4620 - val_accuracy: 0.7885\n",
            "Epoch 21/100\n",
            "1110/1110 [==============================] - 2s 2ms/step - loss: 0.4694 - accuracy: 0.7864 - val_loss: 0.4606 - val_accuracy: 0.7886\n",
            "Epoch 22/100\n",
            "1110/1110 [==============================] - 2s 2ms/step - loss: 0.4677 - accuracy: 0.7862 - val_loss: 0.4591 - val_accuracy: 0.7895\n",
            "Epoch 23/100\n",
            "1110/1110 [==============================] - 2s 2ms/step - loss: 0.4661 - accuracy: 0.7881 - val_loss: 0.4574 - val_accuracy: 0.7918\n",
            "Epoch 24/100\n",
            "1110/1110 [==============================] - 2s 2ms/step - loss: 0.4647 - accuracy: 0.7879 - val_loss: 0.4560 - val_accuracy: 0.7928\n",
            "Epoch 25/100\n",
            "1110/1110 [==============================] - 2s 2ms/step - loss: 0.4633 - accuracy: 0.7906 - val_loss: 0.4547 - val_accuracy: 0.7939\n",
            "Epoch 26/100\n",
            "1110/1110 [==============================] - 2s 2ms/step - loss: 0.4620 - accuracy: 0.7914 - val_loss: 0.4534 - val_accuracy: 0.7934\n",
            "Epoch 27/100\n",
            "1110/1110 [==============================] - 3s 2ms/step - loss: 0.4607 - accuracy: 0.7916 - val_loss: 0.4522 - val_accuracy: 0.7944\n",
            "Epoch 28/100\n",
            "1110/1110 [==============================] - 2s 2ms/step - loss: 0.4593 - accuracy: 0.7928 - val_loss: 0.4516 - val_accuracy: 0.7937\n",
            "Epoch 29/100\n",
            "1110/1110 [==============================] - 3s 3ms/step - loss: 0.4581 - accuracy: 0.7922 - val_loss: 0.4502 - val_accuracy: 0.7953\n",
            "Epoch 30/100\n",
            "1110/1110 [==============================] - 3s 2ms/step - loss: 0.4570 - accuracy: 0.7927 - val_loss: 0.4490 - val_accuracy: 0.7960\n",
            "Epoch 31/100\n",
            "1110/1110 [==============================] - 3s 2ms/step - loss: 0.4558 - accuracy: 0.7925 - val_loss: 0.4478 - val_accuracy: 0.7964\n",
            "Epoch 32/100\n",
            "1110/1110 [==============================] - 3s 3ms/step - loss: 0.4547 - accuracy: 0.7934 - val_loss: 0.4467 - val_accuracy: 0.7972\n",
            "Epoch 33/100\n",
            "1110/1110 [==============================] - 3s 2ms/step - loss: 0.4536 - accuracy: 0.7941 - val_loss: 0.4458 - val_accuracy: 0.7962\n",
            "Epoch 34/100\n",
            "1110/1110 [==============================] - 2s 2ms/step - loss: 0.4524 - accuracy: 0.7932 - val_loss: 0.4448 - val_accuracy: 0.7967\n",
            "Epoch 35/100\n",
            "1110/1110 [==============================] - 2s 2ms/step - loss: 0.4514 - accuracy: 0.7943 - val_loss: 0.4437 - val_accuracy: 0.7979\n",
            "Epoch 36/100\n",
            "1110/1110 [==============================] - 3s 2ms/step - loss: 0.4502 - accuracy: 0.7951 - val_loss: 0.4430 - val_accuracy: 0.7999\n",
            "Epoch 37/100\n",
            "1110/1110 [==============================] - 2s 2ms/step - loss: 0.4491 - accuracy: 0.7948 - val_loss: 0.4418 - val_accuracy: 0.7986\n",
            "Epoch 38/100\n",
            "1110/1110 [==============================] - 3s 2ms/step - loss: 0.4482 - accuracy: 0.7965 - val_loss: 0.4408 - val_accuracy: 0.8002\n",
            "Epoch 39/100\n",
            "1110/1110 [==============================] - 2s 2ms/step - loss: 0.4470 - accuracy: 0.7955 - val_loss: 0.4400 - val_accuracy: 0.7997\n",
            "Epoch 40/100\n",
            "1110/1110 [==============================] - 2s 2ms/step - loss: 0.4459 - accuracy: 0.7964 - val_loss: 0.4390 - val_accuracy: 0.8011\n",
            "Epoch 41/100\n",
            "1110/1110 [==============================] - 2s 2ms/step - loss: 0.4448 - accuracy: 0.7968 - val_loss: 0.4382 - val_accuracy: 0.8023\n",
            "Epoch 42/100\n",
            "1110/1110 [==============================] - 3s 2ms/step - loss: 0.4439 - accuracy: 0.7976 - val_loss: 0.4372 - val_accuracy: 0.8014\n",
            "Epoch 43/100\n",
            "1110/1110 [==============================] - 2s 2ms/step - loss: 0.4428 - accuracy: 0.7975 - val_loss: 0.4360 - val_accuracy: 0.8020\n",
            "Epoch 44/100\n",
            "1110/1110 [==============================] - 2s 2ms/step - loss: 0.4417 - accuracy: 0.7978 - val_loss: 0.4350 - val_accuracy: 0.8016\n",
            "Epoch 45/100\n",
            "1110/1110 [==============================] - 2s 2ms/step - loss: 0.4406 - accuracy: 0.7976 - val_loss: 0.4341 - val_accuracy: 0.8020\n",
            "Epoch 46/100\n",
            "1110/1110 [==============================] - 2s 2ms/step - loss: 0.4395 - accuracy: 0.7981 - val_loss: 0.4330 - val_accuracy: 0.8035\n",
            "Epoch 47/100\n",
            "1110/1110 [==============================] - 2s 2ms/step - loss: 0.4383 - accuracy: 0.7991 - val_loss: 0.4326 - val_accuracy: 0.8030\n",
            "Epoch 48/100\n",
            "1110/1110 [==============================] - 2s 2ms/step - loss: 0.4373 - accuracy: 0.8004 - val_loss: 0.4311 - val_accuracy: 0.8037\n",
            "Epoch 49/100\n",
            "1110/1110 [==============================] - 2s 2ms/step - loss: 0.4362 - accuracy: 0.8000 - val_loss: 0.4300 - val_accuracy: 0.8046\n",
            "Epoch 50/100\n",
            "1110/1110 [==============================] - 2s 2ms/step - loss: 0.4351 - accuracy: 0.8003 - val_loss: 0.4290 - val_accuracy: 0.8048\n",
            "Epoch 51/100\n",
            "1110/1110 [==============================] - 2s 2ms/step - loss: 0.4338 - accuracy: 0.8001 - val_loss: 0.4283 - val_accuracy: 0.8058\n",
            "Epoch 52/100\n",
            "1110/1110 [==============================] - 2s 2ms/step - loss: 0.4327 - accuracy: 0.8025 - val_loss: 0.4269 - val_accuracy: 0.8060\n",
            "Epoch 53/100\n",
            "1110/1110 [==============================] - 2s 2ms/step - loss: 0.4315 - accuracy: 0.8028 - val_loss: 0.4264 - val_accuracy: 0.8077\n",
            "Epoch 54/100\n",
            "1110/1110 [==============================] - 2s 2ms/step - loss: 0.4302 - accuracy: 0.8037 - val_loss: 0.4249 - val_accuracy: 0.8081\n",
            "Epoch 55/100\n",
            "1110/1110 [==============================] - 2s 2ms/step - loss: 0.4290 - accuracy: 0.8040 - val_loss: 0.4245 - val_accuracy: 0.8090\n",
            "Epoch 56/100\n",
            "1110/1110 [==============================] - 2s 2ms/step - loss: 0.4278 - accuracy: 0.8052 - val_loss: 0.4227 - val_accuracy: 0.8098\n",
            "Epoch 57/100\n",
            "1110/1110 [==============================] - 2s 2ms/step - loss: 0.4266 - accuracy: 0.8051 - val_loss: 0.4217 - val_accuracy: 0.8106\n",
            "Epoch 58/100\n",
            "1110/1110 [==============================] - 2s 2ms/step - loss: 0.4254 - accuracy: 0.8069 - val_loss: 0.4204 - val_accuracy: 0.8127\n",
            "Epoch 59/100\n",
            "1110/1110 [==============================] - 2s 2ms/step - loss: 0.4240 - accuracy: 0.8078 - val_loss: 0.4196 - val_accuracy: 0.8130\n",
            "Epoch 60/100\n",
            "1110/1110 [==============================] - 2s 2ms/step - loss: 0.4229 - accuracy: 0.8088 - val_loss: 0.4182 - val_accuracy: 0.8137\n",
            "Epoch 61/100\n",
            "1110/1110 [==============================] - 2s 2ms/step - loss: 0.4217 - accuracy: 0.8091 - val_loss: 0.4171 - val_accuracy: 0.8153\n",
            "Epoch 62/100\n",
            "1110/1110 [==============================] - 2s 2ms/step - loss: 0.4205 - accuracy: 0.8094 - val_loss: 0.4162 - val_accuracy: 0.8169\n",
            "Epoch 63/100\n",
            "1110/1110 [==============================] - 3s 2ms/step - loss: 0.4194 - accuracy: 0.8096 - val_loss: 0.4152 - val_accuracy: 0.8177\n",
            "Epoch 64/100\n",
            "1110/1110 [==============================] - 3s 2ms/step - loss: 0.4183 - accuracy: 0.8117 - val_loss: 0.4146 - val_accuracy: 0.8172\n",
            "Epoch 65/100\n",
            "1110/1110 [==============================] - 2s 2ms/step - loss: 0.4172 - accuracy: 0.8113 - val_loss: 0.4133 - val_accuracy: 0.8184\n",
            "Epoch 66/100\n",
            "1110/1110 [==============================] - 2s 2ms/step - loss: 0.4163 - accuracy: 0.8116 - val_loss: 0.4124 - val_accuracy: 0.8202\n",
            "Epoch 67/100\n",
            "1110/1110 [==============================] - 3s 3ms/step - loss: 0.4152 - accuracy: 0.8141 - val_loss: 0.4120 - val_accuracy: 0.8202\n",
            "Epoch 68/100\n",
            "1110/1110 [==============================] - 2s 2ms/step - loss: 0.4144 - accuracy: 0.8141 - val_loss: 0.4108 - val_accuracy: 0.8223\n",
            "Epoch 69/100\n",
            "1110/1110 [==============================] - 2s 2ms/step - loss: 0.4134 - accuracy: 0.8155 - val_loss: 0.4101 - val_accuracy: 0.8230\n",
            "Epoch 70/100\n",
            "1110/1110 [==============================] - 2s 2ms/step - loss: 0.4125 - accuracy: 0.8164 - val_loss: 0.4091 - val_accuracy: 0.8228\n",
            "Epoch 71/100\n",
            "1110/1110 [==============================] - 2s 2ms/step - loss: 0.4116 - accuracy: 0.8165 - val_loss: 0.4082 - val_accuracy: 0.8239\n",
            "Epoch 72/100\n",
            "1110/1110 [==============================] - 3s 2ms/step - loss: 0.4107 - accuracy: 0.8169 - val_loss: 0.4076 - val_accuracy: 0.8246\n",
            "Epoch 73/100\n",
            "1110/1110 [==============================] - 3s 2ms/step - loss: 0.4098 - accuracy: 0.8182 - val_loss: 0.4069 - val_accuracy: 0.8244\n",
            "Epoch 74/100\n",
            "1110/1110 [==============================] - 2s 2ms/step - loss: 0.4091 - accuracy: 0.8195 - val_loss: 0.4063 - val_accuracy: 0.8253\n",
            "Epoch 75/100\n",
            "1110/1110 [==============================] - 2s 2ms/step - loss: 0.4083 - accuracy: 0.8188 - val_loss: 0.4055 - val_accuracy: 0.8258\n",
            "Epoch 76/100\n",
            "1110/1110 [==============================] - 2s 2ms/step - loss: 0.4075 - accuracy: 0.8198 - val_loss: 0.4054 - val_accuracy: 0.8251\n",
            "Epoch 77/100\n",
            "1110/1110 [==============================] - 2s 2ms/step - loss: 0.4066 - accuracy: 0.8206 - val_loss: 0.4049 - val_accuracy: 0.8247\n",
            "Epoch 78/100\n",
            "1110/1110 [==============================] - 2s 2ms/step - loss: 0.4061 - accuracy: 0.8194 - val_loss: 0.4042 - val_accuracy: 0.8277\n",
            "Epoch 79/100\n",
            "1110/1110 [==============================] - 3s 2ms/step - loss: 0.4055 - accuracy: 0.8197 - val_loss: 0.4034 - val_accuracy: 0.8251\n",
            "Epoch 80/100\n",
            "1110/1110 [==============================] - 2s 2ms/step - loss: 0.4047 - accuracy: 0.8223 - val_loss: 0.4028 - val_accuracy: 0.8279\n",
            "Epoch 81/100\n",
            "1110/1110 [==============================] - 2s 2ms/step - loss: 0.4041 - accuracy: 0.8205 - val_loss: 0.4020 - val_accuracy: 0.8288\n",
            "Epoch 82/100\n",
            "1110/1110 [==============================] - 2s 2ms/step - loss: 0.4033 - accuracy: 0.8201 - val_loss: 0.4023 - val_accuracy: 0.8275\n",
            "Epoch 83/100\n",
            "1110/1110 [==============================] - 3s 2ms/step - loss: 0.4029 - accuracy: 0.8221 - val_loss: 0.4011 - val_accuracy: 0.8293\n",
            "Epoch 84/100\n",
            "1110/1110 [==============================] - 2s 2ms/step - loss: 0.4025 - accuracy: 0.8224 - val_loss: 0.4007 - val_accuracy: 0.8290\n",
            "Epoch 85/100\n",
            "1110/1110 [==============================] - 2s 2ms/step - loss: 0.4018 - accuracy: 0.8233 - val_loss: 0.4004 - val_accuracy: 0.8304\n",
            "Epoch 86/100\n",
            "1110/1110 [==============================] - 3s 2ms/step - loss: 0.4012 - accuracy: 0.8230 - val_loss: 0.3998 - val_accuracy: 0.8304\n",
            "Epoch 87/100\n",
            "1110/1110 [==============================] - 3s 2ms/step - loss: 0.4007 - accuracy: 0.8224 - val_loss: 0.3994 - val_accuracy: 0.8297\n",
            "Epoch 88/100\n",
            "1110/1110 [==============================] - 3s 2ms/step - loss: 0.4002 - accuracy: 0.8239 - val_loss: 0.3999 - val_accuracy: 0.8295\n",
            "Epoch 89/100\n",
            "1110/1110 [==============================] - 2s 2ms/step - loss: 0.3998 - accuracy: 0.8240 - val_loss: 0.4000 - val_accuracy: 0.8277\n",
            "Epoch 90/100\n",
            "1110/1110 [==============================] - 2s 2ms/step - loss: 0.3994 - accuracy: 0.8245 - val_loss: 0.3983 - val_accuracy: 0.8305\n",
            "Epoch 91/100\n",
            "1110/1110 [==============================] - 2s 2ms/step - loss: 0.3989 - accuracy: 0.8251 - val_loss: 0.3983 - val_accuracy: 0.8307\n",
            "Epoch 92/100\n",
            "1110/1110 [==============================] - 2s 2ms/step - loss: 0.3984 - accuracy: 0.8245 - val_loss: 0.3978 - val_accuracy: 0.8316\n",
            "Epoch 93/100\n",
            "1110/1110 [==============================] - 2s 2ms/step - loss: 0.3982 - accuracy: 0.8251 - val_loss: 0.3978 - val_accuracy: 0.8312\n",
            "Epoch 94/100\n",
            "1110/1110 [==============================] - 2s 2ms/step - loss: 0.3976 - accuracy: 0.8245 - val_loss: 0.3970 - val_accuracy: 0.8326\n",
            "Epoch 95/100\n",
            "1110/1110 [==============================] - 2s 2ms/step - loss: 0.3972 - accuracy: 0.8254 - val_loss: 0.3968 - val_accuracy: 0.8316\n",
            "Epoch 96/100\n",
            "1110/1110 [==============================] - 2s 2ms/step - loss: 0.3970 - accuracy: 0.8261 - val_loss: 0.3965 - val_accuracy: 0.8325\n",
            "Epoch 97/100\n",
            "1110/1110 [==============================] - 3s 2ms/step - loss: 0.3962 - accuracy: 0.8260 - val_loss: 0.3990 - val_accuracy: 0.8305\n",
            "Epoch 98/100\n",
            "1110/1110 [==============================] - 2s 2ms/step - loss: 0.3961 - accuracy: 0.8264 - val_loss: 0.3970 - val_accuracy: 0.8316\n",
            "Epoch 99/100\n",
            "1110/1110 [==============================] - 2s 2ms/step - loss: 0.3960 - accuracy: 0.8256 - val_loss: 0.3956 - val_accuracy: 0.8330\n",
            "Epoch 100/100\n",
            "1110/1110 [==============================] - 3s 2ms/step - loss: 0.3954 - accuracy: 0.8278 - val_loss: 0.3954 - val_accuracy: 0.8335\n"
          ]
        },
        {
          "data": {
            "text/plain": [
              "<keras.callbacks.History at 0x7fc13053e750>"
            ]
          },
          "execution_count": 13,
          "metadata": {},
          "output_type": "execute_result"
        }
      ],
      "source": [
        "# fitting the model\n",
        "model.fit(X_train, y_train, batch_size=12, epochs=100, \n",
        "          validation_data=(X_test, y_test), callbacks=[early_stop])"
      ]
    },
    {
      "cell_type": "code",
      "execution_count": 16,
      "metadata": {
        "id": "lQCoJKkHQcsn"
      },
      "outputs": [],
      "source": [
        "# predicting model output\n",
        "y_pred =(model.predict(X_test)>0.5)"
      ]
    },
    {
      "cell_type": "code",
      "execution_count": 17,
      "metadata": {
        "colab": {
          "base_uri": "https://localhost:8080/"
        },
        "id": "Bf9TP5HsPpI4",
        "outputId": "debb0224-7fed-4d0b-c12c-4f49651a31ba"
      },
      "outputs": [
        {
          "name": "stdout",
          "output_type": "stream",
          "text": [
            "Accuracy Score:  0.8335085874518051\n",
            "f1 Score      :  0.7347850362925739\n"
          ]
        }
      ],
      "source": [
        "print('Accuracy Score: ',accuracy_score(y_test, y_pred))\n",
        "print('f1 Score      : ',f1_score(y_test, y_pred))"
      ]
    },
    {
      "cell_type": "markdown",
      "metadata": {
        "id": "1KSJ8EyZPMLR"
      },
      "source": [
        "Here we have model Accuracy Score of 83.35% and model f1 Score of 73.47%. This meets our requirements. Proceeding to Hypertune the model."
      ]
    },
    {
      "cell_type": "markdown",
      "metadata": {
        "id": "nBtDVoAlRGoa"
      },
      "source": [
        "### **HYPERTUNING THE MODEL**\n",
        "\n",
        "Using GridSearchCV"
      ]
    },
    {
      "cell_type": "code",
      "execution_count": 74,
      "metadata": {
        "id": "mviI94MuVLQ5"
      },
      "outputs": [],
      "source": [
        "from tensorflow.keras.models import Sequential\n",
        "from tensorflow.keras.layers import Dense, Dropout\n",
        "from tensorflow.keras.optimizers import Adam, SGD\n",
        "from keras.callbacks import EarlyStopping, ModelCheckpoint\n",
        "from scikeras.wrappers import KerasClassifier\n",
        "from sklearn.model_selection import StratifiedKFold\n",
        "from keras.layers import LeakyReLU\n",
        "LeakyReLU = LeakyReLU(alpha=0.1)\n",
        "\n",
        "#Grid Search CV\n",
        "from sklearn.model_selection import GridSearchCV"
      ]
    },
    {
      "cell_type": "code",
      "execution_count": 126,
      "metadata": {
        "id": "fJ8k2mNFY8qn"
      },
      "outputs": [],
      "source": [
        "#activation = ['relu', 'sigmoid', 'exponential', LeakyReLU]\n",
        "optimizer = ['SGD', 'Adam']\n",
        "#learning_rate = [0.01, 0.02, 0.001]\n",
        "neurons = [15, 20, 25, 30]\n",
        "batch_size = [5,10,15]\n",
        "epochs = [25, 50, 75, 100]\n",
        "\n",
        "param_grid = dict(model__optimizer=optimizer, \n",
        "                  #model__learning_rate=learning_rate,\n",
        "                  model__epochs =epochs,\n",
        "                  model__neurons=neurons, \n",
        "                 # model__activation=activation, \n",
        "                  model__batch_size=batch_size\n",
        "                  )"
      ]
    },
    {
      "cell_type": "code",
      "execution_count": 127,
      "metadata": {
        "id": "9dfM6bWOQunT"
      },
      "outputs": [],
      "source": [
        "# Create model and build Keras Classifier\n",
        "def ann_fun(optimizer, batch_size, neurons, epochs, ): #learning_rate, activation, \n",
        "        opt = 'adam' #\n",
        "        model = Sequential()\n",
        "        model.add(Dense(neurons, input_shape=(10,), activation='relu'))\n",
        "        \n",
        "        model.add(Dense(1, activation='sigmoid'))\n",
        "       \n",
        "        model.compile(loss='binary_crossentropy', optimizer=opt, metrics=['accuracy'])\n",
        "      \n",
        "        return model"
      ]
    },
    {
      "cell_type": "code",
      "execution_count": 128,
      "metadata": {
        "id": "-mNAGaCMfQJP"
      },
      "outputs": [],
      "source": [
        "model = KerasClassifier(build_fn=ann_fun, verbose = 0)"
      ]
    },
    {
      "cell_type": "code",
      "execution_count": 129,
      "metadata": {
        "id": "-X5YLN7adVBa"
      },
      "outputs": [],
      "source": [
        "grid_ann = GridSearchCV(estimator = model,\n",
        "                        param_grid = param_grid,\n",
        "                        scoring= 'accuracy',\n",
        "                        n_jobs = -1, \n",
        "                        cv = 3)"
      ]
    },
    {
      "cell_type": "code",
      "execution_count": 130,
      "metadata": {
        "colab": {
          "base_uri": "https://localhost:8080/"
        },
        "id": "Gq7-jlDBgr0N",
        "outputId": "855a45f0-4a62-49b5-911f-cf0eb4310a1e"
      },
      "outputs": [
        {
          "data": {
            "text/plain": [
              "GridSearchCV(cv=3,\n",
              "             estimator=KerasClassifier(build_fn=<function ann_fun at 0x7fc12fb6a3b0>, verbose=0),\n",
              "             n_jobs=-1,\n",
              "             param_grid={'model__batch_size': [5, 10, 15],\n",
              "                         'model__epochs': [25, 50, 75, 100],\n",
              "                         'model__neurons': [15, 20, 25, 30],\n",
              "                         'model__optimizer': ['SGD', 'Adam']},\n",
              "             scoring='accuracy')"
            ]
          },
          "execution_count": 130,
          "metadata": {},
          "output_type": "execute_result"
        }
      ],
      "source": [
        "# fitting the model for grid search\n",
        "grid_ann.fit(X_train, y_train)"
      ]
    },
    {
      "cell_type": "code",
      "execution_count": 131,
      "metadata": {
        "colab": {
          "base_uri": "https://localhost:8080/"
        },
        "id": "3CR9l7QZtIrJ",
        "outputId": "9fdbab3a-9448-4f20-ddf8-cd4f9c29c4ab"
      },
      "outputs": [
        {
          "data": {
            "text/plain": [
              "{'model__batch_size': 5,\n",
              " 'model__epochs': 25,\n",
              " 'model__neurons': 15,\n",
              " 'model__optimizer': 'SGD'}"
            ]
          },
          "execution_count": 131,
          "metadata": {},
          "output_type": "execute_result"
        }
      ],
      "source": [
        "# Finding the best parameters\n",
        "grid_fit.best_params_"
      ]
    },
    {
      "cell_type": "code",
      "execution_count": 138,
      "metadata": {
        "id": "BmMglLMJSsNi"
      },
      "outputs": [],
      "source": [
        "# model creation with best param\n",
        "model = Sequential()\n",
        "model.add(Dense(15, input_shape=(10,), activation='relu'))\n",
        "model.add(Dense(1, activation='sigmoid'))\n",
        "       \n",
        "# Compile model\n",
        "model.compile(loss='binary_crossentropy', optimizer='SGD', metrics=['accuracy'])\n"
      ]
    },
    {
      "cell_type": "code",
      "execution_count": 141,
      "metadata": {
        "colab": {
          "base_uri": "https://localhost:8080/"
        },
        "id": "IIyf-zwBBrZl",
        "outputId": "8426bd2d-ce2a-496f-ca34-8c1cf683db1d"
      },
      "outputs": [
        {
          "name": "stdout",
          "output_type": "stream",
          "text": [
            "Epoch 1/25\n",
            "2663/2663 [==============================] - 4s 2ms/step - loss: 0.4741 - accuracy: 0.7856\n",
            "Epoch 2/25\n",
            "2663/2663 [==============================] - 5s 2ms/step - loss: 0.4653 - accuracy: 0.7890\n",
            "Epoch 3/25\n",
            "2663/2663 [==============================] - 4s 2ms/step - loss: 0.4579 - accuracy: 0.7892\n",
            "Epoch 4/25\n",
            "2663/2663 [==============================] - 4s 2ms/step - loss: 0.4530 - accuracy: 0.7899\n",
            "Epoch 5/25\n",
            "2663/2663 [==============================] - 4s 2ms/step - loss: 0.4477 - accuracy: 0.7917\n",
            "Epoch 6/25\n",
            "2663/2663 [==============================] - 5s 2ms/step - loss: 0.4419 - accuracy: 0.7951\n",
            "Epoch 7/25\n",
            "2663/2663 [==============================] - 4s 2ms/step - loss: 0.4364 - accuracy: 0.7958\n",
            "Epoch 8/25\n",
            "2663/2663 [==============================] - 4s 2ms/step - loss: 0.4302 - accuracy: 0.7992\n",
            "Epoch 9/25\n",
            "2663/2663 [==============================] - 6s 2ms/step - loss: 0.4246 - accuracy: 0.8027\n",
            "Epoch 10/25\n",
            "2663/2663 [==============================] - 5s 2ms/step - loss: 0.4191 - accuracy: 0.8065\n",
            "Epoch 11/25\n",
            "2663/2663 [==============================] - 4s 2ms/step - loss: 0.4140 - accuracy: 0.8097\n",
            "Epoch 12/25\n",
            "2663/2663 [==============================] - 4s 1ms/step - loss: 0.4102 - accuracy: 0.8139\n",
            "Epoch 13/25\n",
            "2663/2663 [==============================] - 4s 2ms/step - loss: 0.4068 - accuracy: 0.8158\n",
            "Epoch 14/25\n",
            "2663/2663 [==============================] - 4s 2ms/step - loss: 0.4042 - accuracy: 0.8182\n",
            "Epoch 15/25\n",
            "2663/2663 [==============================] - 4s 2ms/step - loss: 0.4017 - accuracy: 0.8212\n",
            "Epoch 16/25\n",
            "2663/2663 [==============================] - 4s 2ms/step - loss: 0.3998 - accuracy: 0.8220\n",
            "Epoch 17/25\n",
            "2663/2663 [==============================] - 4s 2ms/step - loss: 0.3979 - accuracy: 0.8260\n",
            "Epoch 18/25\n",
            "2663/2663 [==============================] - 4s 2ms/step - loss: 0.3967 - accuracy: 0.8249\n",
            "Epoch 19/25\n",
            "2663/2663 [==============================] - 4s 2ms/step - loss: 0.3953 - accuracy: 0.8241\n",
            "Epoch 20/25\n",
            "2663/2663 [==============================] - 4s 2ms/step - loss: 0.3937 - accuracy: 0.8261\n",
            "Epoch 21/25\n",
            "2663/2663 [==============================] - 4s 1ms/step - loss: 0.3925 - accuracy: 0.8295\n",
            "Epoch 22/25\n",
            "2663/2663 [==============================] - 4s 1ms/step - loss: 0.3908 - accuracy: 0.8281\n",
            "Epoch 23/25\n",
            "2663/2663 [==============================] - 4s 2ms/step - loss: 0.3906 - accuracy: 0.8307\n",
            "Epoch 24/25\n",
            "2663/2663 [==============================] - 4s 2ms/step - loss: 0.3900 - accuracy: 0.8291\n",
            "Epoch 25/25\n",
            "2663/2663 [==============================] - 4s 1ms/step - loss: 0.3893 - accuracy: 0.8304\n"
          ]
        }
      ],
      "source": [
        "# fitting model with best param\n",
        "model.fit(X_train, y_train, batch_size=5, epochs=25,)\n",
        "# obtaining output with best param\n",
        "y_pred = model.predict(X_test)>0.5"
      ]
    },
    {
      "cell_type": "code",
      "execution_count": 142,
      "metadata": {
        "colab": {
          "base_uri": "https://localhost:8080/"
        },
        "id": "C_UfSvC5FxmE",
        "outputId": "0801952f-8aaa-46de-dddb-7e37e15cd41d"
      },
      "outputs": [
        {
          "name": "stdout",
          "output_type": "stream",
          "text": [
            "Accuracy Score:  0.8364879074658255\n",
            "f1 Score      :  0.7375527426160337\n"
          ]
        }
      ],
      "source": [
        "print('Accuracy Score: ',accuracy_score(y_test, y_pred))\n",
        "print('f1 Score      : ',f1_score(y_test, y_pred))\n"
      ]
    }
  ],
  "metadata": {
    "colab": {
      "collapsed_sections": [],
      "provenance": []
    },
    "kernelspec": {
      "display_name": "Python 3",
      "name": "python3"
    },
    "language_info": {
      "name": "python"
    }
  },
  "nbformat": 4,
  "nbformat_minor": 0
}
